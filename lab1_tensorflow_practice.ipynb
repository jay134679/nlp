{
 "cells": [
  {
   "cell_type": "markdown",
   "metadata": {},
   "source": [
    "# Basic Operations in TensorFlow\n",
    "\n",
    "Credits: Forked from [TensorFlow-Examples](https://github.com/aymericdamien/TensorFlow-Examples) by Aymeric Damien"
   ]
  },
  {
   "cell_type": "markdown",
   "metadata": {},
   "source": [
    "## Numpy v.s. TF\n",
    "\n",
    "$\n",
    "a = \n",
    "\\begin{pmatrix}\n",
    "    0&0\\\\\n",
    "    0&0\n",
    "\\end{pmatrix} \n",
    "$\n",
    "\n",
    "$\n",
    "b = \n",
    "\\begin{pmatrix}\n",
    "    1&1\\\\\n",
    "    1&1\n",
    "\\end{pmatrix}  \n",
    "$\n",
    "\n",
    "* shape, reshape\n",
    "* sum"
   ]
  },
  {
   "cell_type": "markdown",
   "metadata": {},
   "source": [
    "### Numpy "
   ]
  },
  {
   "cell_type": "code",
   "execution_count": 9,
   "metadata": {
    "collapsed": true
   },
   "outputs": [],
   "source": [
    "import numpy as np"
   ]
  },
  {
   "cell_type": "markdown",
   "metadata": {},
   "source": [
    "### TensorFlow "
   ]
  },
  {
   "cell_type": "code",
   "execution_count": 1,
   "metadata": {
    "collapsed": false
   },
   "outputs": [],
   "source": [
    "import tensorflow as tf"
   ]
  },
  {
   "cell_type": "markdown",
   "metadata": {},
   "source": [
    "* Numpy to TensorFlow chart\n",
    "\n",
    "|                       | Numpy                                   | TensorFlow                              |\n",
    "|-----------------------|-----------------------------------------|-----------------------------------------|\n",
    "| tensor size           | a = np.zeros((2,2)); b = np.ones((2,2)) | a = tf.zeros((2,2)), b = tf.ones((2,2)) |\n",
    "| sum                   | np.sum(b, axis=1)                       | tf.reduce_sum(a,reduction_indices=[1])  |\n",
    "| shape                 | a.shape                                 | a.get_shape()                           |\n",
    "| reshape               | np.reshape(a, (1,4))                    | tf.reshape(a, (1,4))                    |\n",
    "| operations            | b*5+1                                   | b*5+1                                   |\n",
    "| matrix multiplication | np.dot(a,b)                             | tf.matmul(a, b)                         |\n",
    "| index slicing         | a[0,0], a[:,0], a[0,:]                  | a[0,0], a[:,0], a[0,:]                  |"
   ]
  },
  {
   "cell_type": "markdown",
   "metadata": {},
   "source": [
    "## Basic constant operations\n",
    "\n",
    "* create constant a = 2, b = 3;\n",
    "* launch a session\n",
    "* a + b; a * b.\n",
    "* matrix multiplcation\n",
    "\n",
    "$\\begin{pmatrix}\n",
    "    3&3\n",
    "  \\end{pmatrix}\n",
    "  \\begin{pmatrix}\n",
    "    2\\\\\n",
    "    2\\\\\n",
    "  \\end{pmatrix}\n",
    "  = 3\\times2 + 3\\times2 = 12\n",
    "$"
   ]
  },
  {
   "cell_type": "code",
   "execution_count": null,
   "metadata": {
    "collapsed": false
   },
   "outputs": [],
   "source": []
  },
  {
   "cell_type": "markdown",
   "metadata": {},
   "source": [
    "## Basic Operations with placeholders as graph input\n",
    "\n",
    "* create placeholder\n",
    "* define operations\n",
    "* run session"
   ]
  },
  {
   "cell_type": "code",
   "execution_count": null,
   "metadata": {
    "collapsed": false
   },
   "outputs": [],
   "source": []
  },
  {
   "cell_type": "markdown",
   "metadata": {},
   "source": [
    "## Basic Operations with Variables\n",
    "\n",
    "“When you train a model you use variables to hold and update parameters. Variables are in-memory buffers containing tensors”\n",
    "\n",
    "Counter Example\n",
    "\n",
    "Credit: https://cs224d.stanford.edu/lectures/CS224d-Lecture7.pdf\n",
    "\n",
    "* initialize a **variable** state named \"counter\" with value 0\n",
    "* define new_value as counter add 1\n",
    "* define update as assign new_value to state\n",
    "* run session and **initialize all variables**\n",
    "* for range(3) run update and print state"
   ]
  },
  {
   "cell_type": "code",
   "execution_count": null,
   "metadata": {
    "collapsed": false
   },
   "outputs": [],
   "source": []
  },
  {
   "cell_type": "markdown",
   "metadata": {},
   "source": [
    "### Difference between Variable and Placeholder\n",
    "\n",
    "In short, you use **tf.Variable** for trainable variables such as weights (W) and biases (B) for your model. **tf.placeholder** is used to feed actual training examples.\n",
    "\n",
    "Credit: http://stackoverflow.com/questions/36693740/whats-the-difference-between-tf-placeholder-and-tf-variable"
   ]
  },
  {
   "cell_type": "markdown",
   "metadata": {},
   "source": [
    "# Linear Regression in TensorFlow\n",
    "\n",
    "$L = \\text{Squared Error} = \\frac{1}{2n}||Y-(XW+b)||^2_{l_2} $\n",
    "\n",
    "$W_{t+1} = W_{t} - \\eta\\nabla_{W_t}L$"
   ]
  },
  {
   "cell_type": "code",
   "execution_count": 25,
   "metadata": {
    "collapsed": true
   },
   "outputs": [],
   "source": [
    "import numpy\n",
    "import matplotlib.pyplot as plt\n",
    "%matplotlib inline\n",
    "rng = numpy.random"
   ]
  },
  {
   "cell_type": "code",
   "execution_count": 26,
   "metadata": {
    "collapsed": true
   },
   "outputs": [],
   "source": [
    "# Parameters\n",
    "learning_rate = 0.01\n",
    "training_epochs = 2000\n",
    "display_step = 50"
   ]
  },
  {
   "cell_type": "code",
   "execution_count": 27,
   "metadata": {
    "collapsed": true
   },
   "outputs": [],
   "source": [
    "# Training Data\n",
    "train_X = numpy.asarray([3.3,4.4,5.5,6.71,6.93,4.168,9.779,6.182,7.59,2.167,7.042,10.791,5.313,7.997,5.654,9.27,3.1])\n",
    "train_Y = numpy.asarray([1.7,2.76,2.09,3.19,1.694,1.573,3.366,2.596,2.53,1.221,2.827,3.465,1.65,2.904,2.42,2.94,1.3])\n",
    "n_samples = train_X.shape[0]"
   ]
  },
  {
   "cell_type": "code",
   "execution_count": 28,
   "metadata": {
    "collapsed": false
   },
   "outputs": [
    {
     "data": {
      "text/plain": [
       "[<matplotlib.lines.Line2D at 0x11c59f050>]"
      ]
     },
     "execution_count": 28,
     "metadata": {},
     "output_type": "execute_result"
    },
    {
     "data": {
      "image/png": "[encoded data removed]",
      "text/plain": [
       "<matplotlib.figure.Figure at 0x11a4b1cd0>"
      ]
     },
     "metadata": {},
     "output_type": "display_data"
    }
   ],
   "source": [
    "plt.plot(train_X, train_Y, 'ro', label='Original data')"
   ]
  },
  {
   "cell_type": "code",
   "execution_count": 30,
   "metadata": {
    "collapsed": false
   },
   "outputs": [],
   "source": [
    "# tf Graph Input (X, y)\n",
    "# tip: initialize X and y as placeholders of float\n",
    "X = \n",
    "y = "
   ]
  },
  {
   "cell_type": "code",
   "execution_count": 31,
   "metadata": {
    "collapsed": true
   },
   "outputs": [],
   "source": [
    "# Create Model\n",
    "# Set model weights (W, b)\n",
    "# tip: initialize W and b as randome variable with value rng.randn()\n",
    "W = \n",
    "b = "
   ]
  },
  {
   "cell_type": "code",
   "execution_count": 32,
   "metadata": {
    "collapsed": true
   },
   "outputs": [],
   "source": [
    "# Construct a linear model\n",
    "# activation = W * X + b\n",
    "activation = "
   ]
  },
  {
   "cell_type": "code",
   "execution_count": 35,
   "metadata": {
    "collapsed": true
   },
   "outputs": [],
   "source": [
    "# Define the cost function (the squared errors)\n",
    "# cost = (activation - y)**2 / (2 * n_sample)\n",
    "# use tf.train.GradientDescentOptimizer() as optimizer\n",
    "cost = \n",
    "optimizer = "
   ]
  },
  {
   "cell_type": "code",
   "execution_count": 36,
   "metadata": {
    "collapsed": true
   },
   "outputs": [],
   "source": [
    "# Initializing the variables\n",
    "init = "
   ]
  },
  {
   "cell_type": "code",
   "execution_count": 37,
   "metadata": {
    "collapsed": true
   },
   "outputs": [],
   "source": [
    "# Launch the graph\n",
    "with tf.Session() as sess:\n",
    "    sess.run(init)\n",
    "    #Fit all training data\n",
    "    \n",
    "    #Display logs per epoch step\n",
    "\n",
    "    #Graphic display"
   ]
  }
 ],
 "metadata": {
  "kernelspec": {
   "display_name": "Python 2",
   "language": "python",
   "name": "python2"
  },
  "language_info": {
   "codemirror_mode": {
    "name": "ipython",
    "version": 2
   },
   "file_extension": ".py",
   "mimetype": "text/x-python",
   "name": "python",
   "nbconvert_exporter": "python",
   "pygments_lexer": "ipython2",
   "version": "2.7.10"
  }
 },
 "nbformat": 4,
 "nbformat_minor": 0
}
