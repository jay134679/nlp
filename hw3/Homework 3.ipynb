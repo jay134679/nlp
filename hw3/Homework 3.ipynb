{
 "cells": [
  {
   "cell_type": "markdown",
   "metadata": {},
   "source": [
    "# Homework 3\n",
    "## Alex Pine (akp258@nyu.edu)\n",
    "## October 23"
   ]
  },
  {
   "cell_type": "markdown",
   "metadata": {},
   "source": [
    "## 1 Bag of Words\n",
    "\n",
    "### 1a Shortcomings of a bag of words model\n",
    "The bag-of-words (BOW) model cannot capture long-term grammatical dependencies between words. Removing the order between the words removes information from the data, so fewer facts can be inferred from it.\n",
    "\n",
    "For example, if a BOW model was trained to do sentiment analysis of movie reviews, it would probably classify the following sentence incorrectly: \"That was the opposite of what I would call a good movie\". Unless the model used n-grams of length nine or longer, it would not capture the fact that the word \"opposite\" applies to \"good movie\"."
   ]
  },
  {
   "cell_type": "markdown",
   "metadata": {},
   "source": [
    "## TODO 1b  what modification to LSTM architecture would allow us to recover the BOW classification model?\n",
    "TODO\n",
    "Read the theano tutorial for a hint: http://deeplearning.net/tutorial/lstm.html"
   ]
  },
  {
   "cell_type": "code",
   "execution_count": null,
   "metadata": {
    "collapsed": true
   },
   "outputs": [],
   "source": []
  }
 ],
 "metadata": {
  "kernelspec": {
   "display_name": "Python 2",
   "language": "python",
   "name": "python2"
  },
  "language_info": {
   "codemirror_mode": {
    "name": "ipython",
    "version": 2
   },
   "file_extension": ".py",
   "mimetype": "text/x-python",
   "name": "python",
   "nbconvert_exporter": "python",
   "pygments_lexer": "ipython2",
   "version": "2.7.10"
  }
 },
 "nbformat": 4,
 "nbformat_minor": 1
}
