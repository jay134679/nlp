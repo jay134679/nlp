{
 "cells": [
  {
   "cell_type": "markdown",
   "metadata": {},
   "source": [
    "# Basic Operations in TensorFlow\n",
    "\n",
    "Credits: Forked from [TensorFlow-Examples](https://github.com/aymericdamien/TensorFlow-Examples) by Aymeric Damien"
   ]
  },
  {
   "cell_type": "markdown",
   "metadata": {},
   "source": [
    "## Numpy v.s. TF\n",
    "\n",
    "$\n",
    "a = \n",
    "\\begin{pmatrix}\n",
    "    0&0\\\\\n",
    "    0&0\n",
    "\\end{pmatrix} \n",
    "$\n",
    "\n",
    "$\n",
    "b = \n",
    "\\begin{pmatrix}\n",
    "    1&1\\\\\n",
    "    1&1\n",
    "\\end{pmatrix}  \n",
    "$\n",
    "\n",
    "* shape, reshape\n",
    "* sum"
   ]
  },
  {
   "cell_type": "markdown",
   "metadata": {},
   "source": [
    "### Numpy "
   ]
  },
  {
   "cell_type": "code",
   "execution_count": 1,
   "metadata": {
    "collapsed": true
   },
   "outputs": [],
   "source": [
    "import numpy as np\n",
    "a = np.zeros((2,2)); b = np.ones((2,2))"
   ]
  },
  {
   "cell_type": "code",
   "execution_count": 2,
   "metadata": {
    "collapsed": false
   },
   "outputs": [
    {
     "data": {
      "text/plain": [
       "array([ 2.,  2.])"
      ]
     },
     "execution_count": 2,
     "metadata": {},
     "output_type": "execute_result"
    }
   ],
   "source": [
    "np.sum(b, axis=1)"
   ]
  },
  {
   "cell_type": "code",
   "execution_count": 3,
   "metadata": {
    "collapsed": false
   },
   "outputs": [
    {
     "data": {
      "text/plain": [
       "(2, 2)"
      ]
     },
     "execution_count": 3,
     "metadata": {},
     "output_type": "execute_result"
    }
   ],
   "source": [
    "a.shape"
   ]
  },
  {
   "cell_type": "code",
   "execution_count": 4,
   "metadata": {
    "collapsed": false
   },
   "outputs": [
    {
     "data": {
      "text/plain": [
       "array([[ 0.,  0.,  0.,  0.]])"
      ]
     },
     "execution_count": 4,
     "metadata": {},
     "output_type": "execute_result"
    }
   ],
   "source": [
    "np.reshape(a, (1,4))"
   ]
  },
  {
   "cell_type": "markdown",
   "metadata": {},
   "source": [
    "### TensorFlow "
   ]
  },
  {
   "cell_type": "code",
   "execution_count": 5,
   "metadata": {
    "collapsed": false
   },
   "outputs": [
    {
     "data": {
      "text/plain": [
       "<tensorflow.python.client.session.InteractiveSession at 0x106978990>"
      ]
     },
     "execution_count": 5,
     "metadata": {},
     "output_type": "execute_result"
    }
   ],
   "source": [
    "import tensorflow as tf\n",
    "tf.InteractiveSession()"
   ]
  },
  {
   "cell_type": "code",
   "execution_count": 6,
   "metadata": {
    "collapsed": true
   },
   "outputs": [],
   "source": [
    "a = tf.zeros((2,2)); b = tf.ones((2,2))"
   ]
  },
  {
   "cell_type": "code",
   "execution_count": 7,
   "metadata": {
    "collapsed": false
   },
   "outputs": [
    {
     "data": {
      "text/plain": [
       "array([ 2.,  2.], dtype=float32)"
      ]
     },
     "execution_count": 7,
     "metadata": {},
     "output_type": "execute_result"
    }
   ],
   "source": [
    "tf.reduce_sum(b, reduction_indices=1).eval()"
   ]
  },
  {
   "cell_type": "code",
   "execution_count": 8,
   "metadata": {
    "collapsed": false
   },
   "outputs": [
    {
     "data": {
      "text/plain": [
       "TensorShape([Dimension(2), Dimension(2)])"
      ]
     },
     "execution_count": 8,
     "metadata": {},
     "output_type": "execute_result"
    }
   ],
   "source": [
    "a.get_shape()"
   ]
  },
  {
   "cell_type": "code",
   "execution_count": 9,
   "metadata": {
    "collapsed": false
   },
   "outputs": [
    {
     "data": {
      "text/plain": [
       "array([[ 0.,  0.,  0.,  0.]], dtype=float32)"
      ]
     },
     "execution_count": 9,
     "metadata": {},
     "output_type": "execute_result"
    }
   ],
   "source": [
    "tf.reshape(a, (1, 4)).eval()"
   ]
  },
  {
   "cell_type": "markdown",
   "metadata": {},
   "source": [
    "* Numpy to TensorFlow chart\n",
    "\n",
    "|                       | Numpy                                   | TensorFlow                              |\n",
    "|-----------------------|-----------------------------------------|-----------------------------------------|\n",
    "| tensor size           | a = np.zeros((2,2)); b = np.ones((2,2)) | a = tf.zeros((2,2)), b = tf.ones((2,2)) |\n",
    "| sum                   | np.sum(b, axis=1)                       | tf.reduce_sum(a,reduction_indices=[1])  |\n",
    "| shape                 | a.shape                                 | a.get_shape()                           |\n",
    "| reshape               | np.reshape(a, (1,4))                    | tf.reshape(a, (1,4))                    |\n",
    "| operations            | b*5+1                                   | b*5+1                                   |\n",
    "| matrix multiplication | np.dot(a,b)                             | tf.matmul(a, b)                         |\n",
    "| index slicing         | a[0,0], a[:,0], a[0,:]                  | a[0,0], a[:,0], a[0,:]                  |"
   ]
  },
  {
   "cell_type": "markdown",
   "metadata": {},
   "source": [
    "## Basic constant operations\n",
    "\n",
    "* create constant a = 2, b = 3;\n",
    "* launch a session\n",
    "* a + b; a * b.\n",
    "* matrix multiplcation\n",
    "\n",
    "$\\begin{pmatrix}\n",
    "    3&3\n",
    "  \\end{pmatrix}\n",
    "  \\begin{pmatrix}\n",
    "    2\\\\\n",
    "    2\\\\\n",
    "  \\end{pmatrix}\n",
    "  = 3\\times2 + 3\\times2 = 12\n",
    "$"
   ]
  },
  {
   "cell_type": "code",
   "execution_count": 10,
   "metadata": {
    "collapsed": false
   },
   "outputs": [],
   "source": [
    "a = tf.constant(2)\n",
    "b = tf.constant(3)"
   ]
  },
  {
   "cell_type": "code",
   "execution_count": 11,
   "metadata": {
    "collapsed": false
   },
   "outputs": [
    {
     "name": "stdout",
     "output_type": "stream",
     "text": [
      "a=2, b=3\n",
      "Addition with constants: 5\n",
      "Which is the same to (a+b).eval 5\n",
      "Multiplication with constants: 6\n",
      "Which is the same to (a*b).eval 5\n"
     ]
    }
   ],
   "source": [
    "# Launch the default graph.\n",
    "with tf.Session() as sess:\n",
    "    print \"a=2, b=3\"\n",
    "    print \"Addition with constants: %i\" % sess.run(a+b)\n",
    "    print \"Which is the same to (a+b).eval %i\" % (a+b).eval()\n",
    "    print \"Multiplication with constants: %i\" % sess.run(a*b)\n",
    "    print \"Which is the same to (a*b).eval %i\" % (a+b).eval()\n",
    "    "
   ]
  },
  {
   "cell_type": "code",
   "execution_count": 12,
   "metadata": {
    "collapsed": true
   },
   "outputs": [],
   "source": [
    "matrix1 = tf.constant([[3., 3.]])\n",
    "matrix2 = tf.constant([[2.],[2.]])"
   ]
  },
  {
   "cell_type": "code",
   "execution_count": 13,
   "metadata": {
    "collapsed": true
   },
   "outputs": [],
   "source": [
    "product = tf.matmul(matrix1, matrix2)"
   ]
  },
  {
   "cell_type": "code",
   "execution_count": 14,
   "metadata": {
    "collapsed": false
   },
   "outputs": [
    {
     "name": "stdout",
     "output_type": "stream",
     "text": [
      "[[ 12.]]\n"
     ]
    }
   ],
   "source": [
    "with tf.Session() as sess:\n",
    "    result = sess.run(product)\n",
    "    print result"
   ]
  },
  {
   "cell_type": "markdown",
   "metadata": {},
   "source": [
    "## Basic Operations with placeholders as graph input\n",
    "\n",
    "* create placeholder\n",
    "* define operations\n",
    "* run session"
   ]
  },
  {
   "cell_type": "code",
   "execution_count": 15,
   "metadata": {
    "collapsed": false
   },
   "outputs": [],
   "source": [
    "a = tf.placeholder(tf.int16)\n",
    "b = tf.placeholder(tf.int16)"
   ]
  },
  {
   "cell_type": "code",
   "execution_count": 16,
   "metadata": {
    "collapsed": true
   },
   "outputs": [],
   "source": [
    "# Define some operations\n",
    "add = tf.add(a, b)\n",
    "mul = tf.mul(a, b)"
   ]
  },
  {
   "cell_type": "code",
   "execution_count": 17,
   "metadata": {
    "collapsed": false
   },
   "outputs": [
    {
     "name": "stdout",
     "output_type": "stream",
     "text": [
      "Addition with variables: 5\n",
      "Multiplication with variables: 6\n"
     ]
    }
   ],
   "source": [
    "# Launch the default graph.\n",
    "with tf.Session() as sess:\n",
    "    # Run every operation with variable input\n",
    "    print \"Addition with variables: %i\" % sess.run(add, feed_dict={a: 2, b: 3})\n",
    "    print \"Multiplication with variables: %i\" % sess.run(mul, feed_dict={a: 2, b: 3})"
   ]
  },
  {
   "cell_type": "markdown",
   "metadata": {},
   "source": [
    "## Basic Operations with Variables\n",
    "\n",
    "“When you train a model you use variables to hold and update parameters. Variables are in-memory buffers containing tensors”\n",
    "\n",
    "Counter Example\n",
    "\n",
    "Credit: https://cs224d.stanford.edu/lectures/CS224d-Lecture7.pdf\n",
    "\n",
    "* initialize a **variable** state named \"counter\" with value 0\n",
    "* define new_value as counter add 1\n",
    "* define update as assign new_value to state\n",
    "* run session and **initialize all variables**\n",
    "* for range(3) run update and print state"
   ]
  },
  {
   "cell_type": "code",
   "execution_count": 18,
   "metadata": {
    "collapsed": false
   },
   "outputs": [
    {
     "name": "stdout",
     "output_type": "stream",
     "text": [
      "Initial State: 0\n",
      "Round 0: 1\n",
      "Round 1: 2\n",
      "Round 2: 3\n"
     ]
    }
   ],
   "source": [
    "state = tf.Variable(0, name=\"counter\") # Initialize state to be 0\n",
    "new_value = tf.add(state, tf.constant(1)) # new_value = state + 1\n",
    "update = tf.assign(state, new_value) # Define update operation for state\n",
    "\n",
    "with tf.Session() as sess:\n",
    "    # Variables should be initialized before used\n",
    "    sess.run(tf.initialize_all_variables())\n",
    "    print(\"Initial State: {}\".format(sess.run(state)))\n",
    "    for i in range(3):\n",
    "        sess.run(update)\n",
    "        print(\"Round {}: {}\".format(i, sess.run(state)))"
   ]
  },
  {
   "cell_type": "markdown",
   "metadata": {},
   "source": [
    "### Difference between Variable and Placeholder\n",
    "\n",
    "In short, you use **tf.Variable** for trainable variables such as weights (W) and biases (B) for your model. **tf.placeholder** is used to feed actual training examples.\n",
    "\n",
    "Credit: http://stackoverflow.com/questions/36693740/whats-the-difference-between-tf-placeholder-and-tf-variable"
   ]
  },
  {
   "cell_type": "markdown",
   "metadata": {},
   "source": [
    "# Linear Regression in TensorFlow\n",
    "\n",
    "$L = \\text{Squared Error} = \\frac{1}{2n}||Y-(XW+b)||^2_{l_2} $\n",
    "\n",
    "$W_{t+1} = W_{t} - \\eta\\nabla_{W_t}L$"
   ]
  },
  {
   "cell_type": "code",
   "execution_count": 21,
   "metadata": {
    "collapsed": true
   },
   "outputs": [],
   "source": [
    "import numpy\n",
    "import matplotlib.pyplot as plt\n",
    "%matplotlib inline\n",
    "rng = numpy.random"
   ]
  },
  {
   "cell_type": "code",
   "execution_count": 25,
   "metadata": {
    "collapsed": true
   },
   "outputs": [],
   "source": [
    "# Parameters\n",
    "learning_rate = 0.01\n",
    "training_epochs = 2000\n",
    "display_step = 50"
   ]
  },
  {
   "cell_type": "code",
   "execution_count": 26,
   "metadata": {
    "collapsed": true
   },
   "outputs": [],
   "source": [
    "# Training Data\n",
    "train_X = numpy.asarray([3.3,4.4,5.5,6.71,6.93,4.168,9.779,6.182,7.59,2.167,7.042,10.791,5.313,7.997,5.654,9.27,3.1])\n",
    "train_Y = numpy.asarray([1.7,2.76,2.09,3.19,1.694,1.573,3.366,2.596,2.53,1.221,2.827,3.465,1.65,2.904,2.42,2.94,1.3])\n",
    "n_samples = train_X.shape[0]"
   ]
  },
  {
   "cell_type": "code",
   "execution_count": 27,
   "metadata": {
    "collapsed": false
   },
   "outputs": [
    {
     "data": {
      "text/plain": [
       "[<matplotlib.lines.Line2D at 0x11c4640d0>]"
      ]
     },
     "execution_count": 27,
     "metadata": {},
     "output_type": "execute_result"
    },
    {
     "data": {
      "image/png": "[encoded data removed]",
      "text/plain": [
       "<matplotlib.figure.Figure at 0x11c3468d0>"
      ]
     },
     "metadata": {},
     "output_type": "display_data"
    }
   ],
   "source": [
    "plt.plot(train_X, train_Y, 'ro', label='Original data')"
   ]
  },
  {
   "cell_type": "code",
   "execution_count": 19,
   "metadata": {
    "collapsed": false
   },
   "outputs": [],
   "source": [
    "# tf Graph Input (X, y)\n",
    "# tip: initialize X and y as placeholders of float\n",
    "X = tf.placeholder(\"float\")\n",
    "Y = tf.placeholder(\"float\")"
   ]
  },
  {
   "cell_type": "code",
   "execution_count": 22,
   "metadata": {
    "collapsed": false
   },
   "outputs": [],
   "source": [
    "# Create Model\n",
    "# Set model weights (W, b)\n",
    "# tip: initialize W and b as randome variable with value rng.randn()\n",
    "W = tf.Variable(rng.randn(), name=\"weight\")\n",
    "b = tf.Variable(rng.randn(), name=\"bias\")"
   ]
  },
  {
   "cell_type": "code",
   "execution_count": 23,
   "metadata": {
    "collapsed": true
   },
   "outputs": [],
   "source": [
    "# Construct a linear model\n",
    "# activation = W * X + b\n",
    "activation = tf.add(tf.mul(X, W), b)"
   ]
  },
  {
   "cell_type": "code",
   "execution_count": 28,
   "metadata": {
    "collapsed": false
   },
   "outputs": [],
   "source": [
    "# Define the cost function (the squared errors)\n",
    "# cost = (activation - y)**2 / (2 * n_sample)\n",
    "# use tf.train.GradientDescentOptimizer() as optimizer\n",
    "cost = tf.reduce_sum(tf.pow(activation-Y, 2))/(2*n_samples) #L2 loss\n",
    "optimizer = tf.train.GradientDescentOptimizer(learning_rate).minimize(cost) #Gradient descent"
   ]
  },
  {
   "cell_type": "code",
   "execution_count": 29,
   "metadata": {
    "collapsed": true
   },
   "outputs": [],
   "source": [
    "# Initializing the variables\n",
    "init = tf.initialize_all_variables()"
   ]
  },
  {
   "cell_type": "code",
   "execution_count": 30,
   "metadata": {
    "collapsed": false
   },
   "outputs": [
    {
     "name": "stdout",
     "output_type": "stream",
     "text": [
      "Epoch: 0001 cost= 1.553576231 W= 0.824095 b= -1.69147\n",
      "Epoch: 0051 cost= 0.425865948 W= 0.579683 b= -1.57317\n",
      "Epoch: 0101 cost= 0.385574698 W= 0.560051 b= -1.43194\n",
      "Epoch: 0151 cost= 0.349934638 W= 0.541587 b= -1.29911\n",
      "Epoch: 0201 cost= 0.318408996 W= 0.524221 b= -1.17418\n",
      "Epoch: 0251 cost= 0.290523797 W= 0.507888 b= -1.05668\n",
      "Epoch: 0301 cost= 0.265857995 W= 0.492526 b= -0.946169\n",
      "Epoch: 0351 cost= 0.244040236 W= 0.478077 b= -0.842229\n",
      "Epoch: 0401 cost= 0.224741459 W= 0.464488 b= -0.74447\n",
      "Epoch: 0451 cost= 0.207671434 W= 0.451708 b= -0.652527\n",
      "Epoch: 0501 cost= 0.192572460 W= 0.439687 b= -0.566051\n",
      "Epoch: 0551 cost= 0.179217100 W= 0.428381 b= -0.484719\n",
      "Epoch: 0601 cost= 0.167404011 W= 0.417748 b= -0.408223\n",
      "Epoch: 0651 cost= 0.156955123 W= 0.407747 b= -0.336277\n",
      "Epoch: 0701 cost= 0.147713065 W= 0.398341 b= -0.26861\n",
      "Epoch: 0751 cost= 0.139538422 W= 0.389494 b= -0.204967\n",
      "Epoch: 0801 cost= 0.132307976 W= 0.381173 b= -0.14511\n",
      "Epoch: 0851 cost= 0.125912696 W= 0.373348 b= -0.0888125\n",
      "Epoch: 0901 cost= 0.120256186 W= 0.365988 b= -0.0358634\n",
      "Epoch: 0951 cost= 0.115253121 W= 0.359065 b= 0.0139366\n",
      "Epoch: 1001 cost= 0.110828035 W= 0.352554 b= 0.0607748\n",
      "Epoch: 1051 cost= 0.106914207 W= 0.346431 b= 0.104827\n",
      "Epoch: 1101 cost= 0.103452586 W= 0.340671 b= 0.14626\n",
      "Epoch: 1151 cost= 0.100390971 W= 0.335255 b= 0.185228\n",
      "Epoch: 1201 cost= 0.097683176 W= 0.33016 b= 0.221878\n",
      "Epoch: 1251 cost= 0.095288299 W= 0.325368 b= 0.256349\n",
      "Epoch: 1301 cost= 0.093170188 W= 0.320861 b= 0.28877\n",
      "Epoch: 1351 cost= 0.091296934 W= 0.316623 b= 0.319263\n",
      "Epoch: 1401 cost= 0.089640230 W= 0.312636 b= 0.347941\n",
      "Epoch: 1451 cost= 0.088175043 W= 0.308887 b= 0.374915\n",
      "Epoch: 1501 cost= 0.086879268 W= 0.30536 b= 0.400285\n",
      "Epoch: 1551 cost= 0.085733369 W= 0.302044 b= 0.424144\n",
      "Epoch: 1601 cost= 0.084719993 W= 0.298924 b= 0.446586\n",
      "Epoch: 1651 cost= 0.083823822 W= 0.29599 b= 0.467692\n",
      "Epoch: 1701 cost= 0.083031297 W= 0.293231 b= 0.487544\n",
      "Epoch: 1751 cost= 0.082330510 W= 0.290635 b= 0.506214\n",
      "Epoch: 1801 cost= 0.081710830 W= 0.288194 b= 0.523774\n",
      "Epoch: 1851 cost= 0.081162840 W= 0.285899 b= 0.54029\n",
      "Epoch: 1901 cost= 0.080678277 W= 0.283739 b= 0.555824\n",
      "Epoch: 1951 cost= 0.080249846 W= 0.281708 b= 0.570434\n",
      "Optimization Finished!\n",
      "cost= 0.0798781 W= 0.279835 b= 0.583909\n"
     ]
    },
    {
     "data": {
      "image/png": "[encoded data removed]",
      "text/plain": [
       "<matplotlib.figure.Figure at 0x1069965d0>"
      ]
     },
     "metadata": {},
     "output_type": "display_data"
    }
   ],
   "source": [
    "# Launch the graph\n",
    "with tf.Session() as sess:\n",
    "    sess.run(init)\n",
    "\n",
    "    # Fit all training data\n",
    "    for epoch in range(training_epochs):\n",
    "        for (x, y) in zip(train_X, train_Y):\n",
    "            sess.run(optimizer, feed_dict={X: x, Y: y})\n",
    "\n",
    "        #Display logs per epoch step\n",
    "        if epoch % display_step == 0:\n",
    "            print \"Epoch:\", '%04d' % (epoch+1), \"cost=\", \\\n",
    "                \"{:.9f}\".format(sess.run(cost, feed_dict={X: train_X, Y:train_Y})), \\\n",
    "                \"W=\", sess.run(W), \"b=\", sess.run(b)\n",
    "\n",
    "    print \"Optimization Finished!\"\n",
    "    print \"cost=\", sess.run(cost, feed_dict={X: train_X, Y: train_Y}), \\\n",
    "          \"W=\", sess.run(W), \"b=\", sess.run(b)\n",
    "\n",
    "    #Graphic display\n",
    "    plt.plot(train_X, train_Y, 'ro', label='Original data')\n",
    "    plt.plot(train_X, sess.run(W) * train_X + sess.run(b), label='Fitted line')\n",
    "    plt.legend()\n",
    "    plt.show()"
   ]
  },
  {
   "cell_type": "code",
   "execution_count": null,
   "metadata": {
    "collapsed": true
   },
   "outputs": [],
   "source": []
  }
 ],
 "metadata": {
  "kernelspec": {
   "display_name": "Python 2",
   "language": "python",
   "name": "python2"
  },
  "language_info": {
   "codemirror_mode": {
    "name": "ipython",
    "version": 2
   },
   "file_extension": ".py",
   "mimetype": "text/x-python",
   "name": "python",
   "nbconvert_exporter": "python",
   "pygments_lexer": "ipython2",
   "version": "2.7.12"
  }
 },
 "nbformat": 4,
 "nbformat_minor": 0
}
